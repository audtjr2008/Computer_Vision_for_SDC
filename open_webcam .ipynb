{
 "cells": [
  {
   "cell_type": "code",
   "execution_count": 3,
   "metadata": {},
   "outputs": [],
   "source": [
    "import cv2\n",
    "import numpy as np\n",
    "from PIL import ImageGrab\n",
    "import time"
   ]
  },
  {
   "cell_type": "code",
   "execution_count": 4,
   "metadata": {},
   "outputs": [],
   "source": [
    "# You can Quit with pushing \n",
    "def show_webcam(mirror=False):\n",
    "    cam = cv2.VideoCapture(0)\n",
    "    while True:\n",
    "        ret_val, img = cam.read()\n",
    "        if mirror: \n",
    "            img = cv2.flip(img, 1)\n",
    "        cv2.imshow('my webcam', img)\n",
    "        if cv2.waitKey(1) == 27: \n",
    "            break  # esc to quit\n",
    "    cv2.destroyAllWindows()\n",
    "    \n",
    "def main():\n",
    "    show_webcam(mirror=True)\n",
    "\n",
    "\n",
    "if __name__ == '__main__':\n",
    "    main()"
   ]
  },
  {
   "cell_type": "code",
   "execution_count": null,
   "metadata": {},
   "outputs": [],
   "source": [
    "def process_img(image):\n",
    "    original_image = image\n",
    "    # edge detection\n",
    "    processed_img =  cv2.Canny(image, threshold1 = 200, threshold2=300)\n",
    "\n",
    "    processed_img = cv2.GaussianBlur(processed_img,(5,5),0)\n",
    "\n",
    "    vertices = np.array([[10,500],[10,300],[300,200],[500,200],[800,300],[800,500],\n",
    "                         ], np.int32)\n",
    "\n",
    "    processed_img = roi(processed_img, [vertices])\n",
    "\n",
    "    # more info: http://docs.opencv.org/3.0-beta/doc/py_tutorials/py_imgproc/py_houghlines/py_houghlines.html\n",
    "    #                                     rho   theta   thresh  min length, max gap:\n",
    "    lines = cv2.HoughLinesP(processed_img, 1, np.pi/180, 180,      20,       15)\n",
    "    m1 = 0\n",
    "    m2 = 0\n",
    "    try:\n",
    "        l1, l2, m1,m2 = draw_lanes(original_image,lines)\n",
    "        cv2.line(original_image, (l1[0], l1[1]), (l1[2], l1[3]), [0,255,0], 30)\n",
    "        cv2.line(original_image, (l2[0], l2[1]), (l2[2], l2[3]), [0,255,0], 30)\n",
    "    except Exception as e:\n",
    "        print(str(e))\n",
    "        pass\n",
    "    try:\n",
    "        for coords in lines:\n",
    "            coords = coords[0]\n",
    "            try:\n",
    "                cv2.line(processed_img, (coords[0], coords[1]), (coords[2], coords[3]), [255,0,0], 3)\n",
    "\n",
    "\n",
    "            except Exception as e:\n",
    "                print(str(e))\n",
    "    except Exception as e:\n",
    "        pass\n",
    "\n",
    "    return processed_img,original_image, m1, m2\n",
    "\n",
    "def roi(img, vertices):\n",
    "\n",
    "    #blank mask:\n",
    "    mask = np.zeros_like(img)\n",
    "\n",
    "    #filling pixels inside the polygon defined by \"vertices\" with the fill color\n",
    "    cv2.fillPoly(mask, vertices, 255)\n",
    "\n",
    "    #returning the image only where mask pixels are nonzero\n",
    "    masked = cv2.bitwise_and(img, mask)\n",
    "    return masked\n"
   ]
  },
  {
   "cell_type": "code",
   "execution_count": null,
   "metadata": {},
   "outputs": [],
   "source": []
  },
  {
   "cell_type": "code",
   "execution_count": null,
   "metadata": {},
   "outputs": [],
   "source": []
  }
 ],
 "metadata": {
  "kernelspec": {
   "display_name": "Python 3",
   "language": "python",
   "name": "python3"
  }
 },
 "nbformat": 4,
 "nbformat_minor": 2
}
